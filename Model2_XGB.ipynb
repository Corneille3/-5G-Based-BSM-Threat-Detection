{
 "cells": [
  {
   "cell_type": "code",
   "execution_count": 1,
   "id": "f60e2147",
   "metadata": {},
   "outputs": [],
   "source": [
    "import pandas as pd\n",
    "from matplotlib import pyplot as plt\n",
    "import glob\n",
    "import os\n",
    "import numpy as np\n",
    "import xgboost as xgb\n",
    "from xgboost import XGBClassifier\n",
    "from sklearn.model_selection import GridSearchCV\n",
    "import shap\n",
    "from sklearn.model_selection import train_test_split\n",
    "from sklearn.metrics import mean_squared_error as MSE\n",
    "from sklearn.model_selection import train_test_split\n",
    "from sklearn.metrics import accuracy_score\n",
    "from sklearn.neural_network import MLPClassifier\n",
    "from sklearn import svm\n",
    "from sklearn.neighbors import (NeighborhoodComponentsAnalysis,KNeighborsClassifier)\n",
    "from sklearn.pipeline import Pipeline\n",
    "from sklearn.naive_bayes import GaussianNB\n",
    "from sklearn.model_selection import cross_val_score\n",
    "from sklearn.model_selection import LeaveOneOut\n",
    "from sklearn.model_selection import cross_val_predict\n",
    "from sklearn.metrics import confusion_matrix\n",
    "from sklearn.metrics import precision_score\n",
    "from collections import Counter\n",
    "from sklearn.preprocessing import StandardScaler  \n",
    "from sklearn.neural_network import MLPRegressor\n",
    "from sklearn.neighbors import KNeighborsRegressor"
   ]
  },
  {
   "cell_type": "code",
   "execution_count": 3,
   "id": "7f985c0c",
   "metadata": {},
   "outputs": [
    {
     "name": "stdout",
     "output_type": "stream",
     "text": [
      "(11386, 1200)\n",
      "(9583, 1200)\n"
     ]
    }
   ],
   "source": [
    "X_attacker = np.load(Path(\"ClosestCarCSVsModel2/df_attacker_allscaled_flat.npy\")) \n",
    "X_normal = np.load(Path(\"ClosestCarCSVsModel2/df_normal_allscaled_flat.npy\")) \n",
    "\n",
    "X_normal_split, p = train_test_split(X_normal, test_size=0.70, random_state=42, shuffle=True)\n",
    "print(X_normal_split.shape)\n",
    "print(X_attacker.shape)"
   ]
  },
  {
   "cell_type": "code",
   "execution_count": 4,
   "id": "0aa4c882",
   "metadata": {},
   "outputs": [
    {
     "name": "stdout",
     "output_type": "stream",
     "text": [
      "(20969, 1200)\n",
      "(20969,)\n"
     ]
    }
   ],
   "source": [
    "y = np.asarray([0]*X_normal_split.shape[0] + [1]*X_attacker.shape[0]).astype('float32')\n",
    "X = np.concatenate((X_normal_split, X_attacker), axis=0)\n",
    "print(X.shape)\n",
    "print(y.shape)\n",
    "X_train, X_test, y_train, y_test = train_test_split(X, y, test_size=0.33, random_state=42, shuffle=True)"
   ]
  },
  {
   "cell_type": "code",
   "execution_count": 5,
   "id": "0fb52604",
   "metadata": {},
   "outputs": [
    {
     "name": "stdout",
     "output_type": "stream",
     "text": [
      "Accuracy: 0.7348265895953757\n",
      "Precision: 0.7338622430580599\n"
     ]
    }
   ],
   "source": [
    "xgb_r = xgb.XGBClassifier( \n",
    "    learning_rate = 0.1,\n",
    "    max_depth = 5,\n",
    "    n_estimators=1000,\n",
    "    subsample=0.7,\n",
    "    colsample_bytree=0.8,\n",
    "    objective='binary:logistic',\n",
    "    reg_alpha = 0.01,\n",
    "    reg_lambda = 0.01\n",
    "    )\n",
    "xgb_r_SHAP = xgb_r\n",
    "xgb_r_SHAP.fit(X_train, y_train)\n",
    "y_pred = xgb_r_SHAP.predict(X_test)\n",
    "\n",
    "# y_pred = cross_val_predict(xgb_r, X, y, cv=2, n_jobs=-1)\n",
    "\n",
    "print('Accuracy:', accuracy_score(y_test, y_pred))\n",
    "print('Precision:', precision_score(y_test, y_pred))"
   ]
  },
  {
   "cell_type": "code",
   "execution_count": 6,
   "id": "91411d19",
   "metadata": {},
   "outputs": [
    {
     "name": "stdout",
     "output_type": "stream",
     "text": [
      "TN:3050, FP:738, FN:1097, TP:2035\n"
     ]
    }
   ],
   "source": [
    "tn, fp, fn, tp = confusion_matrix(y_test, y_pred).ravel()\n",
    "print(f'TN:{tn}, FP:{fp}, FN:{fn}, TP:{tp}')"
   ]
  }
 ],
 "metadata": {
  "kernelspec": {
   "display_name": "Python 3 (ipykernel)",
   "language": "python",
   "name": "python3"
  },
  "language_info": {
   "codemirror_mode": {
    "name": "ipython",
    "version": 3
   },
   "file_extension": ".py",
   "mimetype": "text/x-python",
   "name": "python",
   "nbconvert_exporter": "python",
   "pygments_lexer": "ipython3",
   "version": "3.9.13"
  }
 },
 "nbformat": 4,
 "nbformat_minor": 5
}
