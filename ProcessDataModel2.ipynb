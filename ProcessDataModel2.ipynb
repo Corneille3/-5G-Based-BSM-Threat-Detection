{
 "cells": [
  {
   "cell_type": "code",
   "execution_count": 2,
   "id": "57882a1d",
   "metadata": {},
   "outputs": [],
   "source": [
    "import pandas as pd\n",
    "from matplotlib import pyplot as plt\n",
    "import glob\n",
    "import os\n",
    "import numpy as np\n",
    "import pandas as pd\n",
    "pd.options.mode.chained_assignment = None  # default='warn'\n",
    "from scipy.spatial import distance \n",
    "from sklearn.preprocessing import StandardScaler, MinMaxScaler"
   ]
  },
  {
   "cell_type": "markdown",
   "id": "cfec19e1",
   "metadata": {},
   "source": [
    "# Load Each Predicted car position sheet (16 Features) fill nans with 0 Pad to 100"
   ]
  },
  {
   "cell_type": "code",
   "execution_count": null,
   "id": "fb090406",
   "metadata": {
    "scrolled": true
   },
   "outputs": [],
   "source": [
    "start_folder = 'CSVsPred'\n",
    "csvs_attackers = glob.glob('{}/*_attacker.csv'.format(start_folder))\n",
    "df_attackers = []\n",
    "\n",
    "for c in csvs_attackers:\n",
    "    df = pd.read_csv(c).drop(['Unnamed: 0','Unnamed: 0.1', 'time', 'sender', 'attackerType'], axis=1).fillna(0)\n",
    "\n",
    "    df = np.asarray(df).astype('float32')\n",
    "    df = np.pad(df, ((0,100-df.shape[0]),(0,0)), 'constant')\n",
    "    if df.shape[1] == 16:\n",
    "\n",
    "        df_attackers.append(df)\n",
    "    \n",
    "print(len(df_attackers))\n",
    "df_attackers = np.asarray(df_attackers)\n",
    "np.save('CSVsPred/np_attackers_pred.npy', df_attackers)\n"
   ]
  },
  {
   "cell_type": "code",
   "execution_count": 3,
   "id": "2c3957bf",
   "metadata": {},
   "outputs": [
    {
     "name": "stdout",
     "output_type": "stream",
     "text": [
      "14312\n"
     ]
    }
   ],
   "source": [
    "start_folder = 'CSVsPred'\n",
    "csvs_normal = glob.glob('{}/*_normal.csv'.format(start_folder))\n",
    "df_normal = []\n",
    "\n",
    "for c in csvs_normal:\n",
    "    df = pd.read_csv(c).drop(['Unnamed: 0','Unnamed: 0.1', 'time', 'sender', 'attackerType'], axis=1).fillna(0)\n",
    "\n",
    "    df = np.asarray(df).astype('float32')\n",
    "    df = np.pad(df, ((0,100-df.shape[0]),(0,0)), 'constant')\n",
    "    if df.shape[1] == 16:\n",
    "        df_normal.append(df)\n",
    "    \n",
    "print(len(df_normal))\n",
    "# df_normal = np.asarray(df_normal)\n",
    "df_normal = np.asarray(df_normal)\n",
    "np.save('CSVsPred/np_normal_pred.npy', df_normal)"
   ]
  },
  {
   "cell_type": "code",
   "execution_count": null,
   "id": "efe3b831",
   "metadata": {},
   "outputs": [],
   "source": [
    "df_normal[2]"
   ]
  },
  {
   "cell_type": "markdown",
   "id": "f3a2fd00",
   "metadata": {},
   "source": [
    "# Loads each whole scenario as a sheet"
   ]
  },
  {
   "cell_type": "code",
   "execution_count": null,
   "id": "8cdf5902",
   "metadata": {},
   "outputs": [],
   "source": [
    "start_folder = 'AllCSVs'\n",
    "csvs_scen = glob.glob(r'{}\\*.csv'.format(start_folder))\n",
    "df_scen = []\n",
    "\n",
    "for c in csvs_scen:\n",
    "    df = pd.read_csv(c).drop(['type','messageID','spd_noise0','spd_noise1','spd_noise2' ,'pos_noise0' ,'pos_noise1' ,'pos_noise2', 'spd2', 'pos2'], axis=1)\n",
    "    df_scen.append(df)\n",
    "print(len(df_scen))\n",
    "df_scen[0][0:100]"
   ]
  },
  {
   "cell_type": "code",
   "execution_count": null,
   "id": "554f44ac",
   "metadata": {},
   "outputs": [],
   "source": [
    "for df in df_scen:\n",
    "    scaler = StandardScaler()\n",
    "    df[['pos0', 'pos1']] = scaler.fit_transform(df[['pos0', 'pos1']])\n",
    "    df[['spd0', 'spd1']] = scaler.fit_transform(df[['spd0', 'spd1']])\n",
    "df_scen[2][0:100]\n",
    "    "
   ]
  },
  {
   "cell_type": "code",
   "execution_count": null,
   "id": "ff5a79e9",
   "metadata": {},
   "outputs": [],
   "source": []
  },
  {
   "cell_type": "code",
   "execution_count": null,
   "id": "afb1a204",
   "metadata": {},
   "outputs": [],
   "source": [
    "# Define a function to find the two closest rows above a given row based on A and B values\n",
    "def find_closest_rows_above(df, row):\n",
    "    given_row = row\n",
    "    row_index = df.index.get_loc(given_row.name)\n",
    "    above_df = df.iloc[max(0, row_index-2000):row_index]\n",
    "\n",
    "    if len(above_df) == 0:\n",
    "        return pd.DataFrame()\n",
    "\n",
    "    df_ab = above_df[['time', 'pos0', 'pos1']]\n",
    "    distances = distance.cdist(df_ab, [given_row[['time', 'pos0', 'pos1']]], metric='euclidean')\n",
    "    sorted_indices = distances.argsort(axis=0).flatten()\n",
    "    closest_rows = df.iloc[sorted_indices]\n",
    "    mask = closest_rows['sender'] == search_row.sender\n",
    "    closest_rows.drop(closest_rows[mask].index, inplace=True)\n",
    "\n",
    "    return closest_rows"
   ]
  },
  {
   "cell_type": "code",
   "execution_count": null,
   "id": "517b6a6a",
   "metadata": {
    "scrolled": true
   },
   "outputs": [],
   "source": [
    "df_closest = []\n",
    "p = 0\n",
    "for df in df_scen:\n",
    "    df_copy = df.copy()\n",
    "    for i in range(2, len(df_copy)): #len(df)\n",
    "#         print(i)\n",
    "#         display(search_row)\n",
    "        search_row = df_copy.iloc[i] \n",
    "        closest_rows = find_closest_rows_above(df.copy(), search_row).reset_index()\n",
    "        closest_car_nums = [0,1]\n",
    "        feats = ['pos0','pos1','spd0','spd1']\n",
    "#         display(closest_rows)\n",
    "        for num in closest_car_nums:\n",
    "            for f in feats:\n",
    "                df_copy.loc[i, f'{f}Close{num}'] = closest_rows.loc[num, f]\n",
    "    \n",
    "    df_copy.to_csv(r'C:\\Users\\aidan\\Desktop\\5G-BSM-Threat-Detection\\ScenarioScaled\\scenario_{}.csv'.format(p))  \n",
    "    df_closest.append(df_copy)\n",
    "    p+=1"
   ]
  },
  {
   "cell_type": "markdown",
   "id": "a00b2e38",
   "metadata": {},
   "source": [
    "# ----------------------------------------Make Numpy-----------------------------------------------"
   ]
  },
  {
   "cell_type": "code",
   "execution_count": null,
   "id": "925d0d2a",
   "metadata": {},
   "outputs": [],
   "source": [
    "# Next Step **Chop out the first 2 rows of the df**\n",
    "start_folder = 'ScenarioScaled'#'ClosestCarCSVsModel2'\n",
    "csvs = glob.glob(r'{}\\*.csv'.format(start_folder))\n",
    "df_list = []\n",
    "\n",
    "for c in csvs:\n",
    "    df = pd.read_csv(c)\n",
    "    for i in np.unique(df.sender):\n",
    "        df_list.append(df[df.sender.isin([i])].copy())\n",
    "    #     df[df.ID.isin([subs[0]])&df.Vigil.isin(vigils[0])].copy()\n",
    "print(len(df_list))\n",
    "# df_list[0]"
   ]
  },
  {
   "cell_type": "markdown",
   "id": "754ca671",
   "metadata": {},
   "source": [
    "# BSM Length 10 (Windowed, Slide 9)"
   ]
  },
  {
   "cell_type": "code",
   "execution_count": null,
   "id": "4599976d",
   "metadata": {
    "scrolled": false
   },
   "outputs": [],
   "source": [
    "df_attacker = []\n",
    "df_normal = []\n",
    "window_size = 20\n",
    "overlap_size = 19\n",
    "df = df_list[0:10]\n",
    "for j in df:\n",
    "#     print(j)\n",
    "    if j.attackerType.any() == 0:\n",
    "        j = j.iloc[:,4:].fillna(0)#4\n",
    "        for start_idx in range(0, len(j)-window_size, window_size - overlap_size):\n",
    "            end_idx = start_idx + window_size\n",
    "            df_temp = j.iloc[start_idx:end_idx]\n",
    "#             display(df_chunk)\n",
    "            scaler = StandardScaler()\n",
    "            df_temp[['pos0', 'pos1']] = scaler.fit_transform(df_temp[['pos0', 'pos1']])\n",
    "            df_temp[['spd0', 'spd1']] = scaler.fit_transform(df_temp[['spd0', 'spd1']])\n",
    "            df_temp[['pos0Close0', 'pos1Close0']] = scaler.fit_transform(df_temp[['pos0Close0', 'pos1Close0']])\n",
    "            df_temp[['spd0Close0', 'spd1Close0']] = scaler.fit_transform(df_temp[['spd0Close0', 'spd1Close0']])\n",
    "            df_temp[['pos0Close1', 'pos1Close1']] = scaler.fit_transform(df_temp[['pos0Close1', 'pos1Close1']])\n",
    "            df_temp[['spd0Close1', 'spd1Close1']] = scaler.fit_transform(df_temp[['spd0Close1', 'spd1Close1']])\n",
    "            \n",
    "            df_normal.append(df_temp)\n",
    "        \n",
    "    \n",
    "    elif j.attackerType.any() == 1:\n",
    "        j = j.iloc[:,4:].fillna(0)\n",
    "        for start_idx in range(0, len(j)-window_size, window_size - overlap_size):\n",
    "            end_idx = start_idx + window_size\n",
    "            df_temp = j.iloc[start_idx:end_idx]\n",
    "#             display(df_chunk)\n",
    "            scaler = StandardScaler()\n",
    "            df_temp[['pos0', 'pos1']] = scaler.fit_transform(df_temp[['pos0', 'pos1']])\n",
    "            df_temp[['spd0', 'spd1']] = scaler.fit_transform(df_temp[['spd0', 'spd1']])\n",
    "            df_temp[['pos0Close0', 'pos1Close0']] = scaler.fit_transform(df_temp[['pos0Close0', 'pos1Close0']])\n",
    "            df_temp[['spd0Close0', 'spd1Close0']] = scaler.fit_transform(df_temp[['spd0Close0', 'spd1Close0']])\n",
    "            df_temp[['pos0Close1', 'pos1Close1']] = scaler.fit_transform(df_temp[['pos0Close1', 'pos1Close1']])\n",
    "            df_temp[['spd0Close1', 'spd1Close1']] = scaler.fit_transform(df_temp[['spd0Close1', 'spd1Close1']])\n",
    "            \n",
    "            df_attacker.append(df_temp)\n",
    "        \n",
    "\n",
    "# df_normal = np.asarray(df_normal)\n",
    "# df_attacker = np.asarray(df_attacker)\n",
    "display(df_normal[0])"
   ]
  },
  {
   "cell_type": "code",
   "execution_count": null,
   "id": "52d5e465",
   "metadata": {},
   "outputs": [],
   "source": [
    "flat = np.asarray(df_normal[0])\n",
    "\n",
    "flat.flatten().shape"
   ]
  },
  {
   "cell_type": "code",
   "execution_count": null,
   "id": "239114d8",
   "metadata": {},
   "outputs": [],
   "source": [
    "df_normal.shape, df_attacker.shape"
   ]
  },
  {
   "cell_type": "code",
   "execution_count": null,
   "id": "9c9df050",
   "metadata": {},
   "outputs": [],
   "source": [
    "np.save(r'C:\\Users\\aidan\\Desktop\\5G-BSM-Threat-Detection\\ClosestCarCSVsModel2\\np_normal_len50.npy', df_normal)\n",
    "np.save(r'C:\\Users\\aidan\\Desktop\\5G-BSM-Threat-Detection\\ClosestCarCSVsModel2\\np_attacker_len50.npy', df_attacker)\n"
   ]
  },
  {
   "cell_type": "markdown",
   "id": "1db08240",
   "metadata": {},
   "source": [
    "# BSM Length 100 (Full)"
   ]
  },
  {
   "cell_type": "code",
   "execution_count": null,
   "id": "bef62e85",
   "metadata": {},
   "outputs": [],
   "source": [
    "df_list[0].iloc[:,4:].fillna(0)\n",
    "df_temp = np.asarray(df_temp).astype('float32')"
   ]
  },
  {
   "cell_type": "code",
   "execution_count": null,
   "id": "20df3f40",
   "metadata": {},
   "outputs": [],
   "source": [
    "df_attacker = []\n",
    "df_normal = []\n",
    "count = 0\n",
    "for j in df_list:\n",
    "#     print(j.attackerType)\n",
    "    if j.attackerType.any() == 0:       \n",
    "        df_temp = j.iloc[:,4:].fillna(0)\n",
    "        df_temp = np.asarray(df_temp).astype('float32')\n",
    "        j = np.pad(df_temp, ((0,100-j.shape[0]),(0,0)), 'constant')\n",
    "#         j = torch.tensor(j, dtype=torch.long)\n",
    "        df_normal.append(j.flatten())\n",
    "#         print(j.flatten().shape)\n",
    "    elif j.attackerType.any() == 1:\n",
    "        count+=1\n",
    "        df_temp = j.iloc[:,4:].fillna(0)\n",
    "        df_temp = np.asarray(df_temp).astype('float32')\n",
    "        j = np.pad(df_temp, ((0,100-j.shape[0]),(0,0)), 'constant')\n",
    "#         j = torch.tensor(j, dtype=torch.long)\n",
    "        df_attacker.append(j.flatten())\n",
    "\n",
    "        \n",
    "        \n",
    "# df_normal = torch.tensor(df_normal)\n",
    "# df_attacker = torch.tensor(df_attacker)\n",
    "# torch.save(df_normal, 'df_normal_allscaled.pt')\n",
    "# torch.save(df_attacker, 'df_attacker_allscaled.pt')\n",
    "\n",
    "df_normal = np.asarray(df_normal)\n",
    "df_attacker = np.asarray(df_attacker)\n",
    "\n",
    "df_normal.shape\n",
    "# np.save(r'C:\\Users\\aidan\\Desktop\\5G-BSM-Threat-Detection\\ScenarioScaled\\df_normal_allscaled_flat.npy', df_normal)\n",
    "# np.save(r'C:\\Users\\aidan\\Desktop\\5G-BSM-Threat-Detection\\ScenarioScaled\\df_attacker_allscaled_flat.npy', df_attacker)"
   ]
  },
  {
   "cell_type": "code",
   "execution_count": null,
   "id": "f1b721a6",
   "metadata": {},
   "outputs": [],
   "source": [
    "np.save(r'C:\\Users\\aidan\\Desktop\\5G-BSM-Threat-Detection\\ScenarioScaled\\df_normal_allscaled_flat.npy', df_normal)\n",
    "np.save(r'C:\\Users\\aidan\\Desktop\\5G-BSM-Threat-Detection\\ScenarioScaled\\df_attacker_allscaled_flat.npy', df_attacker)"
   ]
  },
  {
   "cell_type": "code",
   "execution_count": null,
   "id": "045ddb65",
   "metadata": {},
   "outputs": [],
   "source": []
  },
  {
   "cell_type": "code",
   "execution_count": null,
   "id": "0a51c8a7",
   "metadata": {},
   "outputs": [],
   "source": [
    "df_attacker = []\n",
    "df_normal = []\n",
    "count = 0\n",
    "for j in df_list:\n",
    "#     print(j.attackerType)\n",
    "    if j.attackerType.any() == 0:       \n",
    "        df_temp = j.iloc[:,4:].fillna(0)\n",
    "        scaler = StandardScaler()\n",
    "        df_temp[['pos0', 'pos1']] = scaler.fit_transform(df_temp[['pos0', 'pos1']])\n",
    "        df_temp[['spd0', 'spd1']] = scaler.fit_transform(df_temp[['spd0', 'spd1']])\n",
    "        df_temp[['pos0Close0', 'pos1Close0']] = scaler.fit_transform(df_temp[['pos0Close0', 'pos1Close0']])\n",
    "        df_temp[['spd0Close0', 'spd1Close0']] = scaler.fit_transform(df_temp[['spd0Close0', 'spd1Close0']])\n",
    "        df_temp[['pos0Close1', 'pos1Close1']] = scaler.fit_transform(df_temp[['pos0Close1', 'pos1Close1']])\n",
    "        df_temp[['spd0Close1', 'spd1Close1']] = scaler.fit_transform(df_temp[['spd0Close1', 'spd1Close1']])\n",
    "#         display(df_temp)\n",
    "        \n",
    "#         df_temp = np.asarray(df_temp).astype('float32')\n",
    "        j = np.pad(df_temp, ((0,100-j.shape[0]),(0,0)), 'constant')\n",
    "        j = torch.tensor(j, dtype=torch.long)\n",
    "        df_normal.append(j)\n",
    "#         print(np.asarray(j).shape)\n",
    "    elif j.attackerType.any() == 1:\n",
    "        count+=1\n",
    "        \n",
    "        df_temp = j.iloc[:,4:].fillna(0)\n",
    "        scaler = StandardScaler()\n",
    "        df_temp[['pos0', 'pos1']] = scaler.fit_transform(df_temp[['pos0', 'pos1']])\n",
    "        df_temp[['spd0', 'spd1']] = scaler.fit_transform(df_temp[['spd0', 'spd1']])\n",
    "        df_temp[['pos0Close0', 'pos1Close0']] = scaler.fit_transform(df_temp[['pos0Close0', 'pos1Close0']])\n",
    "        df_temp[['spd0Close0', 'spd1Close0']] = scaler.fit_transform(df_temp[['spd0Close0', 'spd1Close0']])\n",
    "        df_temp[['pos0Close1', 'pos1Close1']] = scaler.fit_transform(df_temp[['pos0Close1', 'pos1Close1']])\n",
    "        df_temp[['spd0Close1', 'spd1Close1']] = scaler.fit_transform(df_temp[['spd0Close1', 'spd1Close1']])\n",
    "\n",
    "#         df_temp = np.asarray(df_temp).astype('float32')\n",
    "        j = np.pad(df_temp, ((0,100-j.shape[0]),(0,0)), 'constant')\n",
    "        j = torch.tensor(j, dtype=torch.long)\n",
    "        df_attacker.append(j)\n",
    "\n",
    "        \n",
    "        \n",
    "# df_normal = torch.tensor(df_normal)\n",
    "# df_attacker = torch.tensor(df_attacker)\n",
    "# torch.save(df_normal, 'df_normal_allscaled.pt')\n",
    "# torch.save(df_attacker, 'df_attacker_allscaled.pt')\n",
    "\n",
    "df_normal = np.asarray(df_normal)\n",
    "df_attacker = np.asarray(df_attacker)\n",
    "\n",
    "df_normal.shape\n",
    "np.save(r'C:\\Users\\aidan\\Desktop\\5G-BSM-Threat-Detection\\ScenarioScaled\\df_normal_allscaled.npy', df_normal)\n",
    "np.save(r'C:\\Users\\aidan\\Desktop\\5G-BSM-Threat-Detection\\ScenarioScaled\\df_attacker_allscaled.npy', df_attacker)"
   ]
  },
  {
   "cell_type": "code",
   "execution_count": null,
   "id": "627a055f",
   "metadata": {},
   "outputs": [],
   "source": [
    "np.save(r'C:\\Users\\aidan\\Desktop\\5G-BSM-Threat-Detection\\ClosestCarCSVsModel2\\np_normal.npy', df_normal)\n",
    "np.save(r'C:\\Users\\aidan\\Desktop\\5G-BSM-Threat-Detection\\ClosestCarCSVsModel2\\np_attacker.npy', df_attacker)\n"
   ]
  }
 ],
 "metadata": {
  "kernelspec": {
   "display_name": "Python 3 (ipykernel)",
   "language": "python",
   "name": "python3"
  },
  "language_info": {
   "codemirror_mode": {
    "name": "ipython",
    "version": 3
   },
   "file_extension": ".py",
   "mimetype": "text/x-python",
   "name": "python",
   "nbconvert_exporter": "python",
   "pygments_lexer": "ipython3",
   "version": "3.9.13"
  }
 },
 "nbformat": 4,
 "nbformat_minor": 5
}
