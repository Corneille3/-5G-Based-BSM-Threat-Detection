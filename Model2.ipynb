{
 "cells": [
  {
   "cell_type": "code",
   "execution_count": 1,
   "id": "6fe7f07c",
   "metadata": {},
   "outputs": [],
   "source": [
    "import numpy as np\n",
    "import matplotlib.pyplot as plt\n",
    "from pandas import read_csv\n",
    "import math\n",
    "import tensorflow as tf\n",
    "from tensorflow.keras.models import Sequential\n",
    "from tensorflow.keras.layers import LSTM, Bidirectional, Dense, Dropout, Conv2D, MaxPooling2D, Flatten\n",
    "from sklearn.preprocessing import MinMaxScaler\n",
    "from sklearn.metrics import mean_squared_error\n",
    "from sklearn.model_selection import train_test_split\n",
    "from pathlib import Path\n",
    "from sklearn.utils import compute_class_weight\n",
    "from sklearn.metrics import precision_score\n",
    "from sklearn.metrics import accuracy_score\n",
    "from keras.callbacks import ModelCheckpoint\n",
    "from tensorflow import keras\n",
    "from tensorflow.keras import layers"
   ]
  },
  {
   "cell_type": "code",
   "execution_count": 3,
   "id": "7f985c0c",
   "metadata": {},
   "outputs": [
    {
     "name": "stdout",
     "output_type": "stream",
     "text": [
      "(4293, 100, 16)\n",
      "(8164, 100, 16)\n"
     ]
    }
   ],
   "source": [
    "X_attacker = np.load(Path(\"CSVsPred/np_attackers_pred.npy\")) #ClosestCarCSVsModel2/np_attacker.npy\n",
    "X_normal = np.load(Path(\"CSVsPred/np_normal_pred.npy\"))\n",
    "X_normal_split, p = train_test_split(X_normal, test_size=0.70, random_state=42, shuffle=True)\n",
    "print(X_normal_split.shape)\n",
    "print(X_attacker.shape)"
   ]
  },
  {
   "cell_type": "code",
   "execution_count": 4,
   "id": "2e823fc3",
   "metadata": {},
   "outputs": [
    {
     "name": "stdout",
     "output_type": "stream",
     "text": [
      "(12457, 100, 16)\n",
      "(12457,)\n"
     ]
    }
   ],
   "source": [
    "y = np.asarray([0]*X_normal_split.shape[0] + [1]*X_attacker.shape[0]).astype('float32')\n",
    "X = np.concatenate((X_normal_split, X_attacker), axis=0)\n",
    "print(X.shape)\n",
    "print(y.shape)\n",
    "X_train, X_test, y_train, y_test = train_test_split(X, y, test_size=0.33, random_state=42, shuffle=True)"
   ]
  },
  {
   "cell_type": "code",
   "execution_count": 6,
   "id": "b5badb9f",
   "metadata": {},
   "outputs": [
    {
     "name": "stdout",
     "output_type": "stream",
     "text": [
      "Model: \"sequential_2\"\n",
      "_________________________________________________________________\n",
      " Layer (type)                Output Shape              Param #   \n",
      "=================================================================\n",
      " conv2d (Conv2D)             (None, 100, 16, 64)       640       \n",
      "                                                                 \n",
      " max_pooling2d (MaxPooling2D  (None, 50, 8, 64)        0         \n",
      " )                                                               \n",
      "                                                                 \n",
      " conv2d_1 (Conv2D)           (None, 50, 8, 128)        73856     \n",
      "                                                                 \n",
      " max_pooling2d_1 (MaxPooling  (None, 25, 4, 128)       0         \n",
      " 2D)                                                             \n",
      "                                                                 \n",
      " conv2d_2 (Conv2D)           (None, 25, 4, 256)        295168    \n",
      "                                                                 \n",
      " flatten (Flatten)           (None, 25600)             0         \n",
      "                                                                 \n",
      " dense (Dense)               (None, 100)               2560100   \n",
      "                                                                 \n",
      " dense_1 (Dense)             (None, 1)                 101       \n",
      "                                                                 \n",
      "=================================================================\n",
      "Total params: 2,929,865\n",
      "Trainable params: 2,929,865\n",
      "Non-trainable params: 0\n",
      "_________________________________________________________________\n"
     ]
    }
   ],
   "source": [
    "n_feats = 16\n",
    "N = 64\n",
    "model = Sequential()\n",
    "model.add(Conv2D(N, (3, 3), activation='relu', input_shape=(X_train.shape[1], n_feats, 1), padding=\"same\"))\n",
    "model.add(MaxPooling2D((2, 2)))\n",
    "model.add(Conv2D(N*2, (3, 3), activation='relu', padding=\"same\"))\n",
    "model.add(MaxPooling2D((2, 2)))\n",
    "model.add(Conv2D(N*4, (3, 3), activation='relu', padding=\"same\"))\n",
    "model.add(Flatten())\n",
    "model.add(Dense(100, activation='relu'))\n",
    "model.add(Dense(1, activation='sigmoid'))\n",
    "\n",
    "model.summary()"
   ]
  },
  {
   "cell_type": "code",
   "execution_count": null,
   "id": "4ed86112",
   "metadata": {
    "scrolled": true
   },
   "outputs": [],
   "source": [
    "n_feats = 16\n",
    "# X_train = np.expand_dims(X_train, axis=-1)\n",
    "# X_test = np.expand_dims(X_test, axis=-1)\n",
    "\n",
    "N = 64\n",
    "model = Sequential()\n",
    "model.add(Conv2D(N, (3, 3), activation='relu', input_shape=(X_train.shape[1], n_feats, 1), padding=\"same\"))\n",
    "model.add(MaxPooling2D((2, 2)))\n",
    "model.add(Conv2D(N*2, (3, 3), activation='relu', padding=\"same\"))\n",
    "model.add(MaxPooling2D((2, 2)))\n",
    "model.add(Conv2D(N*4, (3, 3), activation='relu', padding=\"same\"))\n",
    "model.add(Flatten())\n",
    "model.add(Dense(100, activation='relu'))\n",
    "model.add(Dense(1, activation='sigmoid'))\n",
    "\n",
    "# model = make_model(input_shape=(100, 12, 1), num_classes=2)\n",
    "\n",
    "# compile the model\n",
    "model.compile(loss='binary_crossentropy', optimizer='adam', metrics=['accuracy'])\n",
    "\n",
    "\n",
    "mc = ModelCheckpoint('best_model2_V2.h5', monitor='val_loss', mode='min', save_best_only=True)\n",
    "\n",
    "\n",
    "class_weights = compute_class_weight(class_weight = \"balanced\", classes= np.unique(y_train), y= y_train)\n",
    "class_weights = dict(zip(np.unique(y_train), class_weights))\n",
    "    \n",
    "model.fit(X_train, y_train, \n",
    "          epochs=300, \n",
    "          batch_size=9000, \n",
    "          class_weight=class_weights,\n",
    "          shuffle=True,\n",
    "          validation_split=0.1,\n",
    "          callbacks=[mc])\n",
    "\n",
    "model.save('model2_V2.h5')\n",
    "y_pred = model.predict(X_test, batch_size=2000)\n",
    "y_pred[y_pred > 0.5] = 1\n",
    "y_pred[y_pred <= 0.5] = 0\n",
    "y_pred.flatten()\n",
    "\n",
    "print('Accuracy:', accuracy_score(y_test, y_pred.flatten()))\n",
    "print('Precision:', precision_score(y_test, y_pred.flatten()))"
   ]
  },
  {
   "cell_type": "code",
   "execution_count": null,
   "id": "5d3fc3b1",
   "metadata": {},
   "outputs": [],
   "source": [
    "model.fit(X_train, y_train, \n",
    "          epochs=300, \n",
    "          batch_size=9000, \n",
    "          class_weight=class_weights,\n",
    "          shuffle=True,\n",
    "          validation_split=0.1,\n",
    "          callbacks=[mc])\n",
    "\n",
    "model.save('model2_V2.h5')\n",
    "y_pred = model.predict(X_test, batch_size=2000)\n",
    "y_pred[y_pred > 0.5] = 1\n",
    "y_pred[y_pred <= 0.5] = 0\n",
    "y_pred.flatten()\n",
    "\n",
    "print('Accuracy:', accuracy_score(y_test, y_pred.flatten()))\n",
    "print('Precision:', precision_score(y_test, y_pred.flatten()))"
   ]
  },
  {
   "cell_type": "markdown",
   "id": "7cd2dcbf",
   "metadata": {},
   "source": [
    "# LSTM"
   ]
  },
  {
   "cell_type": "code",
   "execution_count": null,
   "id": "f8822237",
   "metadata": {},
   "outputs": [],
   "source": [
    "n_feats = 16\n",
    "\n",
    "# define the model\n",
    "model = Sequential()\n",
    "model.add(Bidirectional(LSTM(64, input_shape=(None, n_feats)))) # \"None\" allows for varying input lengths\n",
    "model.add(Dropout(0.5))\n",
    "model.add(Dense(1, activation='sigmoid'))\n",
    "\n",
    "# compile the model\n",
    "model.compile(loss='binary_crossentropy', optimizer='adam', metrics=['accuracy'])\n",
    "class_weights = compute_class_weight(class_weight = \"balanced\", classes= np.unique(y_train), y= y_train)\n",
    "class_weights = dict(zip(np.unique(y_train), class_weights))\n",
    "\n",
    "mc = ModelCheckpoint('best_model2.h5', monitor='val_loss', mode='min', save_best_only=True)\n",
    "\n",
    "model.fit(X_train, y_train, \n",
    "          epochs=70, \n",
    "          batch_size=9000, \n",
    "          class_weight=class_weights,\n",
    "          validation_split=0.1,\n",
    "          callbacks=[mc])\n",
    "model.save('model2_V1.h5')\n",
    "test_loss, test_acc = model.evaluate(X_test, y_test)\n",
    "\n",
    "print(test_loss, test_acc)"
   ]
  },
  {
   "cell_type": "code",
   "execution_count": null,
   "id": "6aa8ef85",
   "metadata": {},
   "outputs": [],
   "source": [
    "y_pred = model.predict(X_test, batch_size=2000)\n",
    "y_pred[y_pred > 0.5] = 1\n",
    "y_pred[y_pred <= 0.5] = 0\n",
    "y_pred.flatten()\n",
    "\n",
    "print('Accuracy:', accuracy_score(y_test, y_pred.flatten()))\n",
    "print('Precision:', precision_score(y_test, y_pred.flatten()))"
   ]
  },
  {
   "cell_type": "code",
   "execution_count": null,
   "id": "9599f77a",
   "metadata": {},
   "outputs": [],
   "source": [
    "y_pred = model.predict(X_test, batch_size=2000)\n",
    "y_pred[y_pred > 0.5] = 1\n",
    "y_pred[y_pred <= 0.5] = 0\n",
    "y_pred.flatten()\n",
    "\n",
    "print('Accuracy:', accuracy_score(y_test, y_pred.flatten()))\n",
    "print('Precision:', precision_score(y_test, y_pred.flatten()))"
   ]
  }
 ],
 "metadata": {
  "kernelspec": {
   "display_name": "Python 3 (ipykernel)",
   "language": "python",
   "name": "python3"
  },
  "language_info": {
   "codemirror_mode": {
    "name": "ipython",
    "version": 3
   },
   "file_extension": ".py",
   "mimetype": "text/x-python",
   "name": "python",
   "nbconvert_exporter": "python",
   "pygments_lexer": "ipython3",
   "version": "3.9.13"
  }
 },
 "nbformat": 4,
 "nbformat_minor": 5
}
