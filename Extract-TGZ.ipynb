{
 "cells": [
  {
   "cell_type": "code",
   "execution_count": null,
   "id": "6750e543",
   "metadata": {},
   "outputs": [],
   "source": [
    "tgzs = os.listdir(r'C:\\Users\\aidan\\Desktop\\School\\5G_Networks\\Final_Project\\FullData')\n",
    "tgzs"
   ]
  },
  {
   "cell_type": "code",
   "execution_count": null,
   "id": "300f4847",
   "metadata": {},
   "outputs": [],
   "source": [
    "import os\n",
    "import shutil\n",
    "import tarfile"
   ]
  },
  {
   "cell_type": "code",
   "execution_count": null,
   "id": "3b54ea24",
   "metadata": {},
   "outputs": [],
   "source": [
    "# tgz = tgzs[1]\n",
    "for tgz in tgzs:\n",
    "    tar = tarfile.open('C:\\\\Users\\\\aidan\\\\Desktop\\School\\\\5G_Networks\\\\Final_Project\\\\FullData\\\\' + tgz, 'r:gz')\n",
    "    tar.extractall('C:\\\\Users\\\\aidan\\\\Desktop\\School\\\\5G_Networks\\\\Final_Project\\\\FullData\\\\' )\n",
    "    tar.close()\n",
    "    # work\\ul\\ul_vertsys\\ul_wqy57\\veins_maat.uc1.14505201.180205_165350\\veins-maat\\simulations\\securecomm2018\\results\n",
    "\n",
    "    new_folder_name = tgz.replace('.tgz','')\n",
    "    new_folder_path = \"C:\\\\Users\\\\aidan\\\\Desktop\\\\School\\\\5G_Networks\\\\Final_Project\\\\FullData\\\\\" + new_folder_name\n",
    "\n",
    "    os.makedirs(new_folder_path, exist_ok=True)\n",
    "\n",
    "    source_folder_path = r\"C:\\Users\\aidan\\Desktop\\School\\5G_Networks\\Final_Project\\FullData\\work\\ul\\ul_vertsys\\ul_wqy57\\{}\\veins-maat\\simulations\\securecomm2018\\results\".format(new_folder_name)\n",
    "\n",
    "    destination_folder_path = new_folder_path\n",
    "\n",
    "    file_list = os.listdir(source_folder_path)\n",
    "\n",
    "    for file_name in file_list:\n",
    "        source_file_path = os.path.join(source_folder_path, file_name)\n",
    "        shutil.copy(source_file_path, destination_folder_path)\n"
   ]
  },
  {
   "cell_type": "code",
   "execution_count": null,
   "id": "a7920d40",
   "metadata": {},
   "outputs": [],
   "source": []
  },
  {
   "cell_type": "code",
   "execution_count": null,
   "id": "26bb49f5",
   "metadata": {
    "scrolled": true
   },
   "outputs": [],
   "source": [
    "folders = os.listdir('C:\\\\Users\\\\aidan\\\\Desktop\\\\School\\\\5G_Networks\\\\Final_Project\\\\FullData')\n",
    "folders"
   ]
  },
  {
   "cell_type": "code",
   "execution_count": null,
   "id": "bc373e80",
   "metadata": {},
   "outputs": [],
   "source": [
    "path"
   ]
  },
  {
   "cell_type": "code",
   "execution_count": null,
   "id": "9aa62d96",
   "metadata": {},
   "outputs": [],
   "source": [
    "import pandas as pd\n",
    "\n",
    "folder = folders[0]\n",
    "\n",
    "for folder in folders:\n",
    "    path = r'C:\\\\Users\\\\aidan\\\\Desktop\\\\School\\\\5G_Networks\\\\Final_Project\\\\FullData\\\\{}\\\\'.format(folder)\n",
    "    with open(path+'GroundTruthJSONlog.json', encoding='utf-8') as inputfile:\n",
    "        df = pd.read_json(inputfile, lines=True)\n",
    "    # Expand the columns containing arrays into separate columns\n",
    "    df = pd.concat([df.drop([\"pos\"], axis=1), df[\"pos\"].apply(pd.Series)], axis=1)\n",
    "    df = pd.concat([df.drop([\"spd_noise\"], axis=1), df[\"spd_noise\"].apply(pd.Series)], axis=1)\n",
    "    df = pd.concat([df.drop([\"pos_noise\"], axis=1), df[\"pos_noise\"].apply(pd.Series)], axis=1)\n",
    "    df = pd.concat([df.drop([\"spd\"], axis=1), df[\"spd\"].apply(pd.Series)], axis=1)\n",
    "    df2 = df.set_axis(['type','time','sender','attackerType','messageID','pos0','pos1','pos2','spd_noise0','spd_noise1','spd_noise2','pos_noise0','pos_noise1','pos_noise2','spd0','spd1','spd2'], axis=1, inplace=False)\n",
    "    df2.to_csv(path+\"{}.csv\".format(folder), encoding='utf-8', index=False)\n",
    "\n",
    "    source_file_path = path+\"{}.csv\".format(folder)\n",
    "    destination_folder_path = r'C:\\Users\\aidan\\Desktop\\School\\5G_Networks\\Final_Project\\AllCSVs'\n",
    "    shutil.copy(source_file_path, destination_folder_path)\n"
   ]
  },
  {
   "cell_type": "code",
   "execution_count": null,
   "id": "98854ce4",
   "metadata": {},
   "outputs": [],
   "source": []
  },
  {
   "cell_type": "code",
   "execution_count": null,
   "id": "22b78dd3",
   "metadata": {},
   "outputs": [],
   "source": []
  },
  {
   "cell_type": "code",
   "execution_count": null,
   "id": "99ee5ed0",
   "metadata": {},
   "outputs": [],
   "source": []
  }
 ],
 "metadata": {
  "kernelspec": {
   "display_name": "Python 3 (ipykernel)",
   "language": "python",
   "name": "python3"
  },
  "language_info": {
   "codemirror_mode": {
    "name": "ipython",
    "version": 3
   },
   "file_extension": ".py",
   "mimetype": "text/x-python",
   "name": "python",
   "nbconvert_exporter": "python",
   "pygments_lexer": "ipython3",
   "version": "3.9.13"
  }
 },
 "nbformat": 4,
 "nbformat_minor": 5
}
