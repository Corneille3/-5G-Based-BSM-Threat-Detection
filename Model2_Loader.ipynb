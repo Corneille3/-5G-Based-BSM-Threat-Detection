{
 "cells": [
  {
   "cell_type": "code",
   "execution_count": 1,
   "id": "6fe7f07c",
   "metadata": {},
   "outputs": [],
   "source": [
    "import numpy as np\n",
    "import matplotlib.pyplot as plt\n",
    "from pandas import read_csv\n",
    "import math\n",
    "import tensorflow as tf\n",
    "from tensorflow.keras.models import Sequential\n",
    "from tensorflow.keras.layers import LSTM, Bidirectional, Dense, Dropout, Conv2D, MaxPooling2D, Flatten\n",
    "from sklearn.preprocessing import MinMaxScaler\n",
    "from sklearn.metrics import mean_squared_error\n",
    "from sklearn.model_selection import train_test_split\n",
    "from pathlib import Path\n",
    "from sklearn.utils import compute_class_weight\n",
    "from sklearn.metrics import precision_score\n",
    "from sklearn.metrics import accuracy_score\n",
    "from keras.callbacks import ModelCheckpoint\n",
    "from tensorflow import keras\n",
    "from tensorflow.keras import layers\n",
    "from sklearn.metrics import confusion_matrix"
   ]
  },
  {
   "cell_type": "code",
   "execution_count": 2,
   "id": "7f985c0c",
   "metadata": {},
   "outputs": [
    {
     "name": "stdout",
     "output_type": "stream",
     "text": [
      "(6420, 100, 12)\n",
      "(6959,)\n"
     ]
    }
   ],
   "source": [
    "X_attacker = np.load(Path(\"ClosestCarCSVsModel2/np_attacker.npy\")) #ClosestCarCSVsModel2/np_attacker.npy\n",
    "X_normal = np.load(Path(\"ClosestCarCSVsModel2/np_normal.npy\"))\n",
    "\n",
    "X_normal_train, X_normal_test = train_test_split(X_normal, test_size=0.10, shuffle=True)\n",
    "X_attacker_train, X_attacker_test = train_test_split(X_attacker, test_size=0.33, shuffle=True)\n",
    "\n",
    "#If I want to even out the test set just chop some of the X_normal_test\n",
    "X_test = np.concatenate((X_normal_test, X_attacker_test), axis=0)\n",
    "y_test = np.asarray([0]*X_normal_test.shape[0] + [1]*X_attacker_test.shape[0]).astype('float32')\n",
    "print(X_attacker_train.shape)\n",
    "print(y_test.shape)"
   ]
  },
  {
   "cell_type": "code",
   "execution_count": null,
   "id": "f1795e45",
   "metadata": {},
   "outputs": [],
   "source": [
    "np.sum(y_test) / y_test.shape"
   ]
  },
  {
   "cell_type": "code",
   "execution_count": null,
   "id": "7f069283",
   "metadata": {},
   "outputs": [],
   "source": [
    "def get_data(X_attacker, X_normal):\n",
    "    X_normal_split, p = train_test_split(X_normal, test_size=0.80, shuffle=True)\n",
    "    y = np.asarray([0]*X_normal_split.shape[0] + [1]*X_attacker.shape[0]).astype('float32')\n",
    "    X = np.concatenate((X_normal_split, X_attacker), axis=0)\n",
    "    return X, y"
   ]
  },
  {
   "cell_type": "code",
   "execution_count": null,
   "id": "6f97509a",
   "metadata": {},
   "outputs": [],
   "source": [
    "X_train, y_train = get_data(X_attacker_train, X_normal_train)\n",
    "np.sum(y_train)/len(y_train)"
   ]
  },
  {
   "cell_type": "markdown",
   "id": "3efd707b",
   "metadata": {},
   "source": [
    "# CNN"
   ]
  },
  {
   "cell_type": "code",
   "execution_count": null,
   "id": "a76120d6",
   "metadata": {
    "scrolled": true
   },
   "outputs": [],
   "source": [
    "n_feats = 16\n",
    "# X_train = np.expand_dims(X_train, axis=-1)\n",
    "# X_test = np.expand_dims(X_test, axis=-1)\n",
    "\n",
    "N = 64\n",
    "model = Sequential()\n",
    "model.add(Conv2D(N, (3, 3), activation='relu', input_shape=(X_train.shape[1], n_feats, 1), padding=\"same\"))\n",
    "model.add(MaxPooling2D((2, 2)))\n",
    "model.add(Conv2D(N*2, (3, 3), activation='relu', padding=\"same\"))\n",
    "model.add(MaxPooling2D((2, 2)))\n",
    "model.add(Conv2D(N*4, (3, 3), activation='relu', padding=\"same\"))\n",
    "model.add(MaxPooling2D((2, 2)))\n",
    "model.add(Conv2D(N*16, (3, 3), activation='relu', padding=\"same\"))\n",
    "model.add(Flatten())\n",
    "model.add(Dense(1000, activation='relu'))\n",
    "model.add(Dense(1, activation='sigmoid'))\n",
    "\n",
    "# model = resnet50(input_shape=(100, 12, 1), num_classes=2)\n",
    "\n",
    "# compile the model\n",
    "model.compile(loss='binary_crossentropy', optimizer='adam', metrics=['accuracy'])\n",
    "\n",
    "\n",
    "mc = ModelCheckpoint('best_model2_V3.h5', monitor='val_loss', mode='min', save_best_only=True)\n",
    "\n",
    "for i in range(0,400):\n",
    "    print('Epoch:', i)\n",
    "    X_train, y_train = get_data(X_attacker_train, X_normal_train)\n",
    "#     class_weights = compute_class_weight(class_weight = \"balanced\", classes= np.unique(y_train), y= y_train)\n",
    "#     class_weights = dict(zip(np.unique(y_train), class_weights))\n",
    "    \n",
    "    model.fit(X_train, y_train, \n",
    "              epochs=1, \n",
    "              batch_size=30000, \n",
    "#               class_weight=class_weights,\n",
    "#               shuffle=True,\n",
    "#               validation_split=0.1,\n",
    "#               callbacks=[mc],\n",
    "              verbose = 0\n",
    "              )\n",
    "\n",
    "model.save('model2_V3.h5')\n",
    "y_pred = model.predict(X_test, batch_size=9000)\n",
    "y_pred[y_pred > 0.5] = 1\n",
    "y_pred[y_pred <= 0.5] = 0\n",
    "y_pred.flatten()\n",
    "\n",
    "print('Accuracy:', accuracy_score(y_test, y_pred.flatten()))\n",
    "print('Precision:', precision_score(y_test, y_pred.flatten()))"
   ]
  },
  {
   "cell_type": "code",
   "execution_count": null,
   "id": "f67536ab",
   "metadata": {},
   "outputs": [],
   "source": [
    "model = keras.models.load_model('model2_V3.h5')\n",
    "y_pred = model.predict(X_test[0:1])\n",
    "y_pred[y_pred > 0.5] = 1\n",
    "y_pred[y_pred <= 0.5] = 0\n",
    "y_pred.flatten()\n",
    "\n",
    "print('Accuracy:', accuracy_score(y_test, y_pred.flatten()))\n",
    "print('Precision:', precision_score(y_test, y_pred.flatten()))"
   ]
  },
  {
   "cell_type": "code",
   "execution_count": null,
   "id": "c5abe32a",
   "metadata": {},
   "outputs": [],
   "source": [
    "# model.save('model2_V2_allscale.h5')\n",
    "print('Accuracy:', accuracy_score(y_test, y_pred.flatten()))\n",
    "print('Precision:', precision_score(y_test, y_pred.flatten()))\n",
    "tn, fp, fn, tp = confusion_matrix(y_test, y_pred.flatten()).ravel()\n",
    "print(f'TN:{tn}, FP:{fp}, FN:{fn}, TP:{tp}')"
   ]
  },
  {
   "cell_type": "markdown",
   "id": "51e6e9d0",
   "metadata": {},
   "source": [
    "# LSTM"
   ]
  },
  {
   "cell_type": "code",
   "execution_count": null,
   "id": "753f4c83",
   "metadata": {
    "scrolled": true
   },
   "outputs": [],
   "source": [
    "n_feats = 16\n",
    "\n",
    "model = Sequential()\n",
    "model.add(Bidirectional(LSTM(64, input_shape=(None, n_feats)))) # \"None\" allows for varying input lengths\n",
    "model.add(Dropout(0.5))\n",
    "model.add(Dense(1, activation='sigmoid'))\n",
    "\n",
    "model.compile(loss='binary_crossentropy', optimizer='adam', metrics=['accuracy'])\n",
    "\n",
    "\n",
    "mc = ModelCheckpoint('best_model2_V2.h5', monitor='val_loss', mode='min', save_best_only=True)\n",
    "\n",
    "for i in range(0,100):\n",
    "    print('Epoch:', i)\n",
    "    X_train, y_train = get_data(X_attacker_train, X_normal_train)\n",
    "    model.fit(X_train, y_train, \n",
    "              epochs=1, \n",
    "              batch_size=9000, \n",
    "              validation_split=0.1,\n",
    "              callbacks=[mc])\n",
    "\n",
    "model.save('model2_V2.h5')\n",
    "y_pred = model.predict(X_test, batch_size=2000)\n",
    "y_pred[y_pred > 0.5] = 1\n",
    "y_pred[y_pred <= 0.5] = 0\n",
    "y_pred.flatten()\n",
    "\n",
    "print('Accuracy:', accuracy_score(y_test, y_pred.flatten()))\n",
    "print('Precision:', precision_score(y_test, y_pred.flatten()))"
   ]
  },
  {
   "cell_type": "code",
   "execution_count": null,
   "id": "c09a55bd",
   "metadata": {},
   "outputs": [],
   "source": [
    "tn, fp, fn, tp = confusion_matrix(y_test, y_pred.flatten()).ravel()\n",
    "print(f'TN:{tn}, FP:{fp}, FN:{fn}, TP:{tp}')"
   ]
  }
 ],
 "metadata": {
  "kernelspec": {
   "display_name": "Python 3 (ipykernel)",
   "language": "python",
   "name": "python3"
  },
  "language_info": {
   "codemirror_mode": {
    "name": "ipython",
    "version": 3
   },
   "file_extension": ".py",
   "mimetype": "text/x-python",
   "name": "python",
   "nbconvert_exporter": "python",
   "pygments_lexer": "ipython3",
   "version": "3.9.13"
  }
 },
 "nbformat": 4,
 "nbformat_minor": 5
}
